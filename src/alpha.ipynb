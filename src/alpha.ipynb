{
 "cells": [
  {
   "attachments": {},
   "cell_type": "markdown",
   "metadata": {},
   "source": [
    "# Determine the learning rate\n",
    "\n",
    "The learning rate $alpha$ is different according to optimization target.\n",
    "\n",
    "## Min Potential Problem\n",
    "\n",
    "Assume a point distribution evenly enough, according to shell theorem, the force excert on any point would be\n",
    "\n",
    "$$\n",
    "F = \\lim_{\n",
    "  n\\to +\\infty\n",
    "}{\n",
    "  n-1\n",
    "}\n",
    "$$\n",
    "\n",
    "Note this is the force towards the radial direction.\n",
    "\n",
    "Assume hexagon distribution of edge length $a$, then the average distance is $d=\\sqrt{3}a$, while the area of such a hexagon would be\n",
    "\n",
    "$$\n",
    "A = \\lim_{\n",
    "  n\\to +\\infty\n",
    "}{\n",
    "  6 \\times \\cfrac{\n",
    "    \\sqrt{3}a^2\n",
    "  }{\n",
    "    4\n",
    "  }\n",
    "} = \\cfrac{\n",
    "  4\\pi\n",
    "}{\n",
    "  3n\n",
    "}\n",
    "$$\n",
    "\n",
    "The position difference in the circular dirction wihin iteration should be much less than the length, thus the safe upperbound of learning rate $\\alpha$ is\n",
    "\n",
    "$$\n",
    "\\alpha = \\lim_{\n",
    "  n\\to +\\infty\n",
    "}{\n",
    "  \\cfrac{\n",
    "    d\n",
    "  }{\n",
    "    F\n",
    "  }\n",
    "} = \\cfrac{\n",
    "  2\\sqrt{2\\sqrt{3}\\pi}\n",
    "}{\n",
    "  3\n",
    "} \\cfrac{1}{\\sqrt{n}} \\cfrac{1}{F}\n",
    "$$"
   ]
  },
  {
   "cell_type": "code",
   "execution_count": 1,
   "metadata": {},
   "outputs": [
    {
     "data": {
      "text/plain": [
       "2.1992722215825355"
      ]
     },
     "execution_count": 1,
     "metadata": {},
     "output_type": "execute_result"
    }
   ],
   "source": [
    "import numpy as np\n",
    "2 * np.sqrt(2*np.sqrt(3)*np.pi)/3"
   ]
  },
  {
   "attachments": {},
   "cell_type": "markdown",
   "metadata": {},
   "source": [
    "However, in early steps, F might be far larger than $n-1$. This calls for a dynamic alpha decided by the largest F.\n",
    "\n",
    "$$\n",
    "\\alpha = \\cfrac{\n",
    "  2.199\n",
    "}{\n",
    "  \\sqrt{n}F\n",
    "}\n",
    "$$\n",
    "\n",
    "Note this is an upperbound, the actual learning rate should be less than this to avoid fluctuating around the minimum."
   ]
  },
  {
   "attachments": {},
   "cell_type": "markdown",
   "metadata": {},
   "source": []
  }
 ],
 "metadata": {
  "kernelspec": {
   "display_name": "spherical_code",
   "language": "python",
   "name": "python3"
  },
  "language_info": {
   "codemirror_mode": {
    "name": "ipython",
    "version": 3
   },
   "file_extension": ".py",
   "mimetype": "text/x-python",
   "name": "python",
   "nbconvert_exporter": "python",
   "pygments_lexer": "ipython3",
   "version": "3.10.11"
  },
  "orig_nbformat": 4
 },
 "nbformat": 4,
 "nbformat_minor": 2
}
