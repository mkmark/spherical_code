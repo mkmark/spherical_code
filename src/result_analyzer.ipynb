{
 "cells": [
  {
   "cell_type": "code",
   "execution_count": 1,
   "metadata": {},
   "outputs": [],
   "source": [
    "import sqlite3"
   ]
  },
  {
   "cell_type": "code",
   "execution_count": 2,
   "metadata": {},
   "outputs": [],
   "source": [
    "# ver = \"v1.0.0\"\n",
    "\n",
    "# ns = range(4, 300)\n",
    "# \"\"\"the range of n to calculate within current run\"\"\"\n",
    "\n",
    "# min_min_count = 10\n",
    "# \"\"\"\n",
    "# this value determines the minimum occurence of a minimum solution\n",
    "# before it is deemed as a global minimum\n",
    "# \"\"\"\n",
    "\n",
    "# max_task_queue_length = 32768\n",
    "\n",
    "# out_base_path = f\"out/{ver}/min_potential\"\n",
    "\n",
    "# sqlite3_db_path = f\"{out_base_path}/db.sqlite3\"\n",
    "\n",
    "# solver_path = f\"release/{ver}/solver/SolverMinPotentialNaive.o3.out\"\n",
    "\n",
    "# txt_dump_path = f\"{out_base_path}/txt_dump/\"\n",
    "\n",
    "# con = sqlite3.connect(sqlite3_db_path)\n",
    "# cur = con.cursor()\n"
   ]
  },
  {
   "cell_type": "code",
   "execution_count": 3,
   "metadata": {},
   "outputs": [],
   "source": [
    "import tqdm\n",
    "\n",
    "def get_status(\n",
    "  cur: sqlite3.Cursor,\n",
    "  ns=None,\n",
    "  gen_missed_tasks=False\n",
    "):\n",
    "  print(\"get_status\")\n",
    "\n",
    "  total_cnts = {}\n",
    "  min_cnts = {}\n",
    "  min_vals = {}\n",
    "  min_val_seeds = {}\n",
    "\n",
    "  missed_tasks = []\n",
    "\n",
    "  if not ns:\n",
    "    ns = [n[0] for n in cur.execute(\"SELECT DISTINCT n FROM record;\").fetchall()]\n",
    "  for n in tqdm.tqdm(ns):\n",
    "    total_cnt_n = cur.execute(f\"SELECT COUNT(n) FROM record WHERE n={n};\").fetchone()[0]\n",
    "    total_cnts[n] = total_cnt_n\n",
    "    if total_cnt_n == 0:\n",
    "      continue\n",
    "    min_val_n = cur.execute(f\"SELECT MIN(value) FROM record WHERE n={n};\").fetchone()[0]\n",
    "    rounded_min_val_n = round(min_val_n, 7)\n",
    "    min_vals[n] = rounded_min_val_n\n",
    "    min_cnts[n] = cur.execute(f\"SELECT COUNT(n) FROM record WHERE n={n} AND value<{min_val_n+1e-7};\").fetchone()[0]\n",
    "    # min_cnts[n] = cur.execute(f\"SELECT COUNT(n) FROM record WHERE n={n} AND ROUND(value, 7)={rounded_min_val_n};\").fetchone()[0]\n",
    "    min_val_seeds[n] = cur.execute(f\"SELECT seed FROM record WHERE n={n} AND value={min_val_n};\").fetchone()[0]\n",
    "    if gen_missed_tasks:\n",
    "      max_seed_n = cur.execute(f\"SELECT MAX(seed) FROM record WHERE n={n}\").fetchone()[0]\n",
    "      if max_seed_n != total_cnt_n-1:\n",
    "        missed_tasks_cnt_n = max_seed_n + 1 - total_cnt_n\n",
    "        print(f\"missing record of n={n}: {missed_tasks_cnt_n}\")\n",
    "        seed = total_cnt_n-1\n",
    "        pbar = tqdm.tqdm(total=missed_tasks_cnt_n)\n",
    "        while missed_tasks_cnt_n != 0:\n",
    "          if cur.execute(f\"SELECT 1 FROM record WHERE n={n} AND seed={seed};\").fetchone() is None:\n",
    "            missed_tasks_cnt_n -= 1\n",
    "            missed_tasks.append((n, seed, \"\"))\n",
    "            pbar.update(1)\n",
    "          seed -= 1\n",
    "  \n",
    "  return total_cnts, min_cnts, min_vals, min_val_seeds, missed_tasks"
   ]
  },
  {
   "cell_type": "code",
   "execution_count": 4,
   "metadata": {},
   "outputs": [
    {
     "name": "stdout",
     "output_type": "stream",
     "text": [
      "get_status\n"
     ]
    },
    {
     "name": "stderr",
     "output_type": "stream",
     "text": [
      "100%|██████████| 297/297 [00:52<00:00,  5.62it/s]  \n"
     ]
    }
   ],
   "source": [
    "import tqdm\n",
    "import os\n",
    "import numpy as np\n",
    "\n",
    "\n",
    "ns = range(4,300)\n",
    "ver = \"v1.0.0\"\n",
    "out_base_path = f\"out/{ver}/min_potential\"\n",
    "sqlite3_db_path = f\"{out_base_path}/db.sqlite3\"\n",
    "con = sqlite3.connect(sqlite3_db_path)\n",
    "cur = con.cursor()\n",
    "total_cnts, min_cnts, min_vals, min_val_seeds, missed_tasks = get_status(cur)\n"
   ]
  },
  {
   "cell_type": "code",
   "execution_count": 5,
   "metadata": {},
   "outputs": [
    {
     "name": "stderr",
     "output_type": "stream",
     "text": [
      "100%|██████████| 296/296 [00:08<00:00, 33.63it/s]  \n"
     ]
    },
    {
     "data": {
      "text/plain": [
       "<BarContainer object of 296 artists>"
      ]
     },
     "execution_count": 5,
     "metadata": {},
     "output_type": "execute_result"
    },
    {
     "data": {
      "image/png": "[encoded data removed]",
      "text/plain": [
       "<Figure size 1080x432 with 1 Axes>"
      ]
     },
     "metadata": {
      "needs_background": "light"
     },
     "output_type": "display_data"
    }
   ],
   "source": [
    "# %%\n",
    "import matplotlib.pyplot as plt\n",
    "import numpy as np\n",
    "avg_steps = {}\n",
    "for n in tqdm.tqdm(ns):\n",
    "  avg_steps[n] = cur.execute(f\"SELECT AVG(step) FROM record WHERE n={n};\").fetchone()[0]\n",
    "x = list(avg_steps.keys())\n",
    "y = np.array(list(avg_steps.values()))\n",
    "plt.figure(figsize=(15,6))\n",
    "plt.bar(\n",
    "  x,\n",
    "  y,\n",
    ")"
   ]
  },
  {
   "cell_type": "code",
   "execution_count": 6,
   "metadata": {},
   "outputs": [
    {
     "name": "stderr",
     "output_type": "stream",
     "text": [
      "100%|██████████| 296/296 [00:00<00:00, 2076110.34it/s]\n"
     ]
    },
    {
     "data": {
      "text/plain": [
       "<BarContainer object of 296 artists>"
      ]
     },
     "execution_count": 6,
     "metadata": {},
     "output_type": "execute_result"
    },
    {
     "data": {
      "image/png": "[encoded data removed]",
      "text/plain": [
       "<Figure size 1080x432 with 1 Axes>"
      ]
     },
     "metadata": {
      "needs_background": "light"
     },
     "output_type": "display_data"
    }
   ],
   "source": [
    "# %%\n",
    "avg_distances = {}\n",
    "for n in tqdm.tqdm(ns):\n",
    "  avg_distances[n] = avg_steps[n] * 100/n/n\n",
    "x = list(avg_distances.keys())\n",
    "y = np.array(list(avg_distances.values()))\n",
    "plt.figure(figsize=(15,6))\n",
    "plt.bar(\n",
    "  x,\n",
    "  y,\n",
    ")"
   ]
  },
  {
   "cell_type": "code",
   "execution_count": 7,
   "metadata": {},
   "outputs": [
    {
     "name": "stderr",
     "output_type": "stream",
     "text": [
      "100%|██████████| 296/296 [00:00<00:00, 1532733.31it/s]\n"
     ]
    },
    {
     "data": {
      "text/plain": [
       "<BarContainer object of 296 artists>"
      ]
     },
     "execution_count": 7,
     "metadata": {},
     "output_type": "execute_result"
    },
    {
     "data": {
      "image/png": "[encoded data removed]",
      "text/plain": [
       "<Figure size 432x288 with 1 Axes>"
      ]
     },
     "metadata": {
      "needs_background": "light"
     },
     "output_type": "display_data"
    }
   ],
   "source": [
    "# %%\n",
    "import matplotlib.pyplot as plt\n",
    "import numpy as np\n",
    "avg_retries = {}\n",
    "\n",
    "for n in tqdm.tqdm(ns):\n",
    "  avg_retries[n] = total_cnts[n]/min_cnts[n]\n",
    "x = list(avg_retries.keys())\n",
    "y = np.array(list(avg_retries.values()))\n",
    "plt.figure()\n",
    "plt.bar(\n",
    "  x,\n",
    "  y,\n",
    ")"
   ]
  },
  {
   "cell_type": "code",
   "execution_count": 8,
   "metadata": {},
   "outputs": [],
   "source": [
    "ver = \"v1.0.2\"\n",
    "\n",
    "ns = range(4, 300)\n",
    "\"\"\"the range of n to calculate within current run\"\"\"\n",
    "\n",
    "min_min_count = 10\n",
    "\"\"\"\n",
    "this value determines the minimum occurence of a minimum solution\n",
    "before it is deemed as a global minimum\n",
    "\"\"\"\n",
    "\n",
    "max_task_queue_length = 32768\n",
    "\n",
    "out_base_path = f\"out/{ver}/min_potential\"\n",
    "\n",
    "sqlite3_db_path = f\"{out_base_path}/db.sqlite3\"\n",
    "\n",
    "solver_path = f\"release/{ver}/solver/SolverMinPotentialNaive.o3.out\"\n",
    "\n",
    "txt_dump_path = f\"{out_base_path}/txt_dump/\"\n",
    "\n",
    "con = sqlite3.connect(sqlite3_db_path)\n",
    "cur = con.cursor()\n"
   ]
  },
  {
   "cell_type": "code",
   "execution_count": 9,
   "metadata": {},
   "outputs": [
    {
     "name": "stdout",
     "output_type": "stream",
     "text": [
      "get_status\n"
     ]
    },
    {
     "name": "stderr",
     "output_type": "stream",
     "text": [
      "100%|██████████| 296/296 [00:20<00:00, 14.11it/s]  \n"
     ]
    }
   ],
   "source": [
    "total_cnts_1_0_2, min_cnts_1_0_2, min_vals_1_0_2, min_val_seeds_1_0_2, missed_tasks_1_0_2 = get_status(cur)"
   ]
  },
  {
   "cell_type": "code",
   "execution_count": 10,
   "metadata": {},
   "outputs": [
    {
     "name": "stderr",
     "output_type": "stream",
     "text": [
      "100%|██████████| 296/296 [00:00<00:00, 2201265.93it/s]\n"
     ]
    },
    {
     "data": {
      "text/plain": [
       "<BarContainer object of 296 artists>"
      ]
     },
     "execution_count": 10,
     "metadata": {},
     "output_type": "execute_result"
    },
    {
     "data": {
      "image/png": "[encoded data removed]",
      "text/plain": [
       "<Figure size 432x288 with 1 Axes>"
      ]
     },
     "metadata": {
      "needs_background": "light"
     },
     "output_type": "display_data"
    }
   ],
   "source": [
    "# %%\n",
    "import matplotlib.pyplot as plt\n",
    "import numpy as np\n",
    "avg_retries = {}\n",
    "\n",
    "ns = range(4,300)\n",
    "for n in tqdm.tqdm(ns):\n",
    "  avg_retries[n] = total_cnts_1_0_2[n]/min_cnts_1_0_2[n]\n",
    "x = list(avg_retries.keys())\n",
    "y = np.array(list(avg_retries.values()))\n",
    "plt.figure()\n",
    "plt.bar(\n",
    "  x,\n",
    "  y,\n",
    ")"
   ]
  },
  {
   "cell_type": "code",
   "execution_count": 11,
   "metadata": {},
   "outputs": [
    {
     "data": {
      "text/plain": [
       "{4: 0.0,\n",
       " 5: 0.0,\n",
       " 6: 0.0,\n",
       " 7: 0.0,\n",
       " 8: 0.0,\n",
       " 9: 0.0,\n",
       " 10: 0.0,\n",
       " 11: 0.0,\n",
       " 12: 0.0,\n",
       " 13: 0.0,\n",
       " 14: 0.0,\n",
       " 15: 0.0,\n",
       " 16: 0.0,\n",
       " 17: 0.0,\n",
       " 18: 0.0,\n",
       " 19: 0.0,\n",
       " 20: 0.0,\n",
       " 21: 0.0,\n",
       " 22: 0.0,\n",
       " 23: 0.0,\n",
       " 24: 0.0,\n",
       " 25: 0.0,\n",
       " 26: 0.0,\n",
       " 27: 0.0,\n",
       " 28: 0.0,\n",
       " 29: 0.0,\n",
       " 30: 0.0,\n",
       " 31: 0.0,\n",
       " 32: 0.0,\n",
       " 33: 9.999996564147295e-08,\n",
       " 34: 0.0,\n",
       " 35: 0.0,\n",
       " 36: 0.0,\n",
       " 37: 0.0,\n",
       " 38: 0.0,\n",
       " 39: 0.0,\n",
       " 40: 0.0,\n",
       " 41: 0.0,\n",
       " 42: 0.0,\n",
       " 43: 0.0,\n",
       " 44: 0.0,\n",
       " 45: 0.0,\n",
       " 46: 0.0,\n",
       " 47: 0.0,\n",
       " 48: 0.0,\n",
       " 49: 0.0,\n",
       " 50: 0.0,\n",
       " 51: 0.0,\n",
       " 52: 0.0,\n",
       " 53: 0.0,\n",
       " 54: 0.0,\n",
       " 55: 0.0,\n",
       " 56: 0.0,\n",
       " 57: 0.0,\n",
       " 58: 0.0,\n",
       " 59: 0.0,\n",
       " 60: 0.0,\n",
       " 61: 0.0,\n",
       " 62: 0.0,\n",
       " 63: 0.0,\n",
       " 64: 0.0,\n",
       " 65: 0.0,\n",
       " 66: 0.0,\n",
       " 67: 0.0,\n",
       " 68: 0.0,\n",
       " 69: 0.0,\n",
       " 70: 0.0,\n",
       " 71: 0.0,\n",
       " 72: 0.0,\n",
       " 73: 0.0,\n",
       " 74: 0.0,\n",
       " 75: 0.0,\n",
       " 76: 0.0,\n",
       " 77: 0.0,\n",
       " 78: 0.0,\n",
       " 79: 0.0,\n",
       " 80: 0.0,\n",
       " 81: 0.0,\n",
       " 82: 0.0,\n",
       " 83: 0.0,\n",
       " 84: 0.0,\n",
       " 85: 0.0,\n",
       " 86: 0.0,\n",
       " 87: 0.0,\n",
       " 88: 0.0,\n",
       " 89: 0.0,\n",
       " 90: 0.0,\n",
       " 91: 0.0,\n",
       " 92: 0.0,\n",
       " 93: 0.0,\n",
       " 94: 0.0,\n",
       " 95: 0.0,\n",
       " 96: 0.0,\n",
       " 97: 0.0,\n",
       " 98: 0.0,\n",
       " 99: 0.0,\n",
       " 100: 0.0,\n",
       " 101: 0.0,\n",
       " 102: 0.0,\n",
       " 103: 0.0,\n",
       " 104: 0.0,\n",
       " 105: 0.0,\n",
       " 106: 0.0,\n",
       " 107: 0.0,\n",
       " 108: 0.0,\n",
       " 109: 0.0,\n",
       " 110: 0.0,\n",
       " 111: 0.0,\n",
       " 112: 0.0,\n",
       " 113: 0.0,\n",
       " 114: 0.0,\n",
       " 115: 0.0,\n",
       " 116: 0.0,\n",
       " 117: 0.0,\n",
       " 118: 0.0,\n",
       " 119: 0.0,\n",
       " 120: 0.0,\n",
       " 121: 0.0,\n",
       " 122: 0.0,\n",
       " 123: 0.0,\n",
       " 124: 0.0,\n",
       " 125: 0.0,\n",
       " 126: 0.0,\n",
       " 127: 0.0,\n",
       " 128: 0.0,\n",
       " 129: 0.0,\n",
       " 130: 0.0,\n",
       " 131: 0.0,\n",
       " 132: 0.0,\n",
       " 133: 0.0,\n",
       " 134: 0.0,\n",
       " 135: 0.0,\n",
       " 136: 0.0,\n",
       " 137: 0.0,\n",
       " 138: 0.0,\n",
       " 139: 0.0,\n",
       " 140: 0.0,\n",
       " 141: 0.0,\n",
       " 142: 0.0,\n",
       " 143: 0.0,\n",
       " 144: 0.0,\n",
       " 145: 0.0,\n",
       " 146: 0.0,\n",
       " 147: 0.0,\n",
       " 148: 0.0,\n",
       " 149: 0.0,\n",
       " 150: 0.0,\n",
       " 151: 0.0,\n",
       " 152: 0.0,\n",
       " 153: 0.0,\n",
       " 154: 0.0,\n",
       " 155: 0.0,\n",
       " 156: 0.0,\n",
       " 157: 0.0,\n",
       " 158: 0.0,\n",
       " 159: 0.0,\n",
       " 160: 0.0,\n",
       " 161: 0.0,\n",
       " 162: 0.0,\n",
       " 163: 0.0,\n",
       " 164: 0.0,\n",
       " 165: 0.0,\n",
       " 166: 0.0,\n",
       " 167: 9.999894245993346e-08,\n",
       " 168: 0.0,\n",
       " 169: 0.0,\n",
       " 170: 0.0,\n",
       " 171: 0.0,\n",
       " 172: 0.0,\n",
       " 173: 0.0,\n",
       " 174: 0.0,\n",
       " 175: 0.0,\n",
       " 176: 0.0,\n",
       " 177: 0.0,\n",
       " 178: 0.0,\n",
       " 179: 0.0,\n",
       " 180: 0.0,\n",
       " 181: 0.0,\n",
       " 182: 0.0,\n",
       " 183: 0.0,\n",
       " 184: 0.0,\n",
       " 185: 0.0,\n",
       " 186: 0.0,\n",
       " 187: 0.0,\n",
       " 188: 0.0,\n",
       " 189: 0.0,\n",
       " 190: 0.0,\n",
       " 191: 0.0,\n",
       " 192: 0.0,\n",
       " 193: 0.0,\n",
       " 194: 0.0,\n",
       " 195: 0.0,\n",
       " 196: 0.0,\n",
       " 197: 0.0,\n",
       " 198: 0.0,\n",
       " 199: 0.0,\n",
       " 200: 0.0,\n",
       " 201: 0.0,\n",
       " 202: 0.0,\n",
       " 203: 0.0,\n",
       " 204: 0.0,\n",
       " 205: 0.0,\n",
       " 206: 1.00000761449337e-07,\n",
       " 207: 0.0,\n",
       " 208: 0.0,\n",
       " 209: 0.0,\n",
       " 210: 0.0,\n",
       " 211: 0.0,\n",
       " 212: 0.0,\n",
       " 213: 0.0,\n",
       " 214: 0.0,\n",
       " 215: 0.0,\n",
       " 216: 0.0,\n",
       " 217: 0.0,\n",
       " 218: 0.0,\n",
       " 219: 0.0,\n",
       " 220: 0.0,\n",
       " 221: 0.0,\n",
       " 222: 0.0,\n",
       " 223: 0.0,\n",
       " 224: 0.0,\n",
       " 225: 0.0,\n",
       " 226: 0.0,\n",
       " 227: 0.0,\n",
       " 228: 0.0,\n",
       " 229: 0.0,\n",
       " 230: 0.0,\n",
       " 231: 0.0,\n",
       " 232: 0.0,\n",
       " 233: 0.0,\n",
       " 234: 0.0,\n",
       " 235: 0.0,\n",
       " 236: 0.0,\n",
       " 237: 0.0,\n",
       " 238: 0.0,\n",
       " 239: 0.0,\n",
       " 240: 0.0,\n",
       " 241: 0.0,\n",
       " 242: 0.0,\n",
       " 243: 0.0,\n",
       " 244: 0.0,\n",
       " 245: 0.0,\n",
       " 246: 0.0,\n",
       " 247: 0.0,\n",
       " 248: 0.0,\n",
       " 249: 0.0,\n",
       " 250: 0.0,\n",
       " 251: 0.0,\n",
       " 252: 0.0,\n",
       " 253: 0.0,\n",
       " 254: 0.0,\n",
       " 255: 0.0,\n",
       " 256: -1.00000761449337e-07,\n",
       " 257: 0.0,\n",
       " 258: 0.0,\n",
       " 259: 0.0,\n",
       " 260: 0.0,\n",
       " 261: 0.0,\n",
       " 262: 0.0,\n",
       " 263: 0.0,\n",
       " 264: 0.0,\n",
       " 265: 0.0,\n",
       " 266: 0.0,\n",
       " 267: -2.00001522898674e-07,\n",
       " 268: 0.0,\n",
       " 269: 0.0,\n",
       " 270: 0.0,\n",
       " 271: 0.0,\n",
       " 272: 0.0,\n",
       " 273: 1.00000761449337e-07,\n",
       " 274: 0.0,\n",
       " 275: 0.0,\n",
       " 276: 0.0,\n",
       " 277: 0.0,\n",
       " 278: 0.0,\n",
       " 279: 0.0,\n",
       " 280: 0.0,\n",
       " 281: 0.0,\n",
       " 282: 0.0,\n",
       " 283: 0.0,\n",
       " 284: -1.00000761449337e-07,\n",
       " 285: 0.0,\n",
       " 286: 0.0,\n",
       " 287: 0.0,\n",
       " 288: 0.0,\n",
       " 289: 0.0,\n",
       " 290: 0.0,\n",
       " 291: 0.0,\n",
       " 292: 0.0,\n",
       " 293: 0.0,\n",
       " 294: 0.0,\n",
       " 295: 0.0,\n",
       " 296: 0.0,\n",
       " 297: 0.0,\n",
       " 298: 0.0,\n",
       " 299: 0.0}"
      ]
     },
     "execution_count": 11,
     "metadata": {},
     "output_type": "execute_result"
    }
   ],
   "source": [
    "diff = {}\n",
    "for n in ns:\n",
    "  diff[n] = min_vals_1_0_2[n]-min_vals[n]\n",
    "diff"
   ]
  },
  {
   "cell_type": "code",
   "execution_count": 12,
   "metadata": {},
   "outputs": [
    {
     "data": {
      "text/plain": [
       "<BarContainer object of 289 artists>"
      ]
     },
     "execution_count": 12,
     "metadata": {},
     "output_type": "execute_result"
    },
    {
     "data": {
      "image/png": "[encoded data removed]",
      "text/plain": [
       "<Figure size 1080x432 with 1 Axes>"
      ]
     },
     "metadata": {
      "needs_background": "light"
     },
     "output_type": "display_data"
    }
   ],
   "source": [
    "retry_ratio = {}\n",
    "for n in ns:\n",
    "  if diff[n] == 0:\n",
    "    retry_ratio[n] = (total_cnts_1_0_2[n]/min_cnts_1_0_2[n]) / (total_cnts[n]/min_cnts[n])\n",
    "retry_ratio\n",
    "\n",
    "x = list(retry_ratio.keys())\n",
    "y = np.array(list(retry_ratio.values()))\n",
    "plt.figure(figsize=(15,6))\n",
    "plt.bar(\n",
    "  x,\n",
    "  y,\n",
    ")"
   ]
  },
  {
   "cell_type": "code",
   "execution_count": 13,
   "metadata": {},
   "outputs": [
    {
     "data": {
      "text/plain": [
       "0.6430376316219113"
      ]
     },
     "execution_count": 13,
     "metadata": {},
     "output_type": "execute_result"
    }
   ],
   "source": [
    "avg_retry_ratio = np.average(list(retry_ratio.values()))\n",
    "avg_retry_ratio"
   ]
  },
  {
   "cell_type": "code",
   "execution_count": 14,
   "metadata": {},
   "outputs": [
    {
     "data": {
      "text/plain": [
       "0.38233854168892634"
      ]
     },
     "execution_count": 14,
     "metadata": {},
     "output_type": "execute_result"
    }
   ],
   "source": [
    "retry_ratio = {}\n",
    "for n in ns:\n",
    "  if diff[n] == 0 and n>250:\n",
    "    retry_ratio[n] = (total_cnts_1_0_2[n]/min_cnts_1_0_2[n]) / (total_cnts[n]/min_cnts[n])\n",
    "avg_retry_ratio = np.average(list(retry_ratio.values()))\n",
    "avg_retry_ratio"
   ]
  },
  {
   "cell_type": "code",
   "execution_count": 15,
   "metadata": {},
   "outputs": [
    {
     "data": {
      "text/plain": [
       "(0.0027271412672374967, -0.13351445296467657)"
      ]
     },
     "execution_count": 15,
     "metadata": {},
     "output_type": "execute_result"
    }
   ],
   "source": [
    "x = list(retry_ratio.keys())\n",
    "y = list(retry_ratio.values())\n",
    "A = np.vstack([x, np.ones(len(x))]).T\n",
    "m, c = np.linalg.lstsq(A, y, rcond=None)[0]\n",
    "-m, 1-c"
   ]
  },
  {
   "cell_type": "code",
   "execution_count": 16,
   "metadata": {},
   "outputs": [
    {
     "name": "stdout",
     "output_type": "stream",
     "text": [
      "266\n",
      "1\n"
     ]
    },
    {
     "ename": "FileNotFoundError",
     "evalue": "[Errno 2] No such file or directory: 'out/min_potential/counter_bf.pickle'",
     "output_type": "error",
     "traceback": [
      "\u001b[0;31m---------------------------------------------------------------------------\u001b[0m",
      "\u001b[0;31mFileNotFoundError\u001b[0m                         Traceback (most recent call last)",
      "\u001b[1;32m/home/mark/repos/spherical_code/src/result_analyzer.ipynb Cell 16\u001b[0m in \u001b[0;36m<cell line: 26>\u001b[0;34m()\u001b[0m\n\u001b[1;32m     <a href='vscode-notebook-cell://ssh-remote%2Bzju109092074/home/mark/repos/spherical_code/src/result_analyzer.ipynb#X21sdnNjb2RlLXJlbW90ZQ%3D%3D?line=23'>24</a>\u001b[0m \u001b[39m# %%\u001b[39;00m\n\u001b[1;32m     <a href='vscode-notebook-cell://ssh-remote%2Bzju109092074/home/mark/repos/spherical_code/src/result_analyzer.ipynb#X21sdnNjb2RlLXJlbW90ZQ%3D%3D?line=24'>25</a>\u001b[0m \u001b[39mimport\u001b[39;00m \u001b[39mpickle\u001b[39;00m\n\u001b[0;32m---> <a href='vscode-notebook-cell://ssh-remote%2Bzju109092074/home/mark/repos/spherical_code/src/result_analyzer.ipynb#X21sdnNjb2RlLXJlbW90ZQ%3D%3D?line=25'>26</a>\u001b[0m \u001b[39mwith\u001b[39;00m \u001b[39mopen\u001b[39;49m(\u001b[39m\"\u001b[39;49m\u001b[39mout/min_potential/counter_bf.pickle\u001b[39;49m\u001b[39m\"\u001b[39;49m, \u001b[39m\"\u001b[39;49m\u001b[39mrb\u001b[39;49m\u001b[39m\"\u001b[39;49m) \u001b[39mas\u001b[39;00m f:\n\u001b[1;32m     <a href='vscode-notebook-cell://ssh-remote%2Bzju109092074/home/mark/repos/spherical_code/src/result_analyzer.ipynb#X21sdnNjb2RlLXJlbW90ZQ%3D%3D?line=26'>27</a>\u001b[0m   counts \u001b[39m=\u001b[39m pickle\u001b[39m.\u001b[39mload(f)\n\u001b[1;32m     <a href='vscode-notebook-cell://ssh-remote%2Bzju109092074/home/mark/repos/spherical_code/src/result_analyzer.ipynb#X21sdnNjb2RlLXJlbW90ZQ%3D%3D?line=28'>29</a>\u001b[0m total_cnts_sa \u001b[39m=\u001b[39m counts[\u001b[39m\"\u001b[39m\u001b[39mtotal_cnts\u001b[39m\u001b[39m\"\u001b[39m]\n",
      "\u001b[0;31mFileNotFoundError\u001b[0m: [Errno 2] No such file or directory: 'out/min_potential/counter_bf.pickle'"
     ]
    }
   ],
   "source": [
    "\n",
    "# %%\n",
    "cnt=0\n",
    "for i, min_val in min_vals.items():\n",
    "  txt_path = f\"{txt_dump_path}/{i}.txt\"\n",
    "\n",
    "  if os.path.exists(txt_path):\n",
    "    with open(txt_path, 'r') as f:\n",
    "      lines = f.readlines()\n",
    "    c_points = np.array(lines, dtype=float).reshape(-1,3)\n",
    "    n = len(c_points)\n",
    "    value = 0\n",
    "    for i, cp_i in enumerate(c_points):\n",
    "      for j in range(i+1, n):\n",
    "        direction = cp_i - c_points[j]\n",
    "        norm = np.linalg.norm(direction, 2)\n",
    "        grad = direction/norm/norm/norm\n",
    "        value += 1/norm\n",
    "    # print(value)\n",
    "\n",
    "    if (abs(min_val - value) > 0.0000001):\n",
    "      print(i)\n",
    "      cnt+=1\n",
    "print(cnt)\n",
    "# %%\n",
    "import pickle\n",
    "with open(\"out/min_potential/counter_bf.pickle\", \"rb\") as f:\n",
    "  counts = pickle.load(f)\n",
    "\n",
    "total_cnts_sa = counts[\"total_cnts\"]\n",
    "min_cnts_sa = counts[\"min_cnts\"]\n",
    "\n",
    "\n",
    "\n",
    "\n",
    "\n",
    "\n"
   ]
  },
  {
   "cell_type": "code",
   "execution_count": null,
   "metadata": {},
   "outputs": [],
   "source": [
    "# %% find appropriate batch_size\n",
    "import matplotlib.pyplot as plt\n",
    "import numpy as np\n",
    "from scipy.interpolate import interp1d\n",
    "x = list(total_cnts.keys())\n",
    "y = np.array(list(total_cnts.values()))/np.array(list(min_cnts.values()))\n",
    "plt.figure()\n",
    "plt.bar(\n",
    "  x,\n",
    "  y,\n",
    ")\n",
    "# %%\n",
    "x_max = [4, 37, 78, 178, 248]\n",
    "y_max = [1, 6, 117, 17800, 71548]\n",
    "f = interp1d(x_max, y_max, kind='quadratic')\n",
    "x_smooth = np.linspace(4, 248, 1000)\n",
    "y_smooth = f(x_smooth)\n",
    "plt.plot(x, y, 'ro', label='Data')\n",
    "plt.plot(x_smooth, y_smooth, 'b-', label='Interpolated Curve')\n",
    "\n",
    "# %%\n",
    "from scipy.optimize import curve_fit\n",
    "def polynomial_func(x, a, b):\n",
    "    return a + b * x**4\n",
    "params, _ = curve_fit(polynomial_func, x_max, y_max, sigma=np.square(x_max))\n",
    "x_fit = np.linspace(4, 255, 1000)\n",
    "y_fit = polynomial_func(x_fit, *params)\n",
    "plt.plot(x, y, 'ro', label='Data')\n",
    "plt.plot(x_fit, y_fit, 'b-', label='Interpolated Curve')"
   ]
  },
  {
   "cell_type": "code",
   "execution_count": null,
   "metadata": {},
   "outputs": [],
   "source": []
  }
 ],
 "metadata": {
  "kernelspec": {
   "display_name": "spherical_code",
   "language": "python",
   "name": "python3"
  },
  "language_info": {
   "codemirror_mode": {
    "name": "ipython",
    "version": 3
   },
   "file_extension": ".py",
   "mimetype": "text/x-python",
   "name": "python",
   "nbconvert_exporter": "python",
   "pygments_lexer": "ipython3",
   "version": "3.10.12"
  },
  "orig_nbformat": 4
 },
 "nbformat": 4,
 "nbformat_minor": 2
}
